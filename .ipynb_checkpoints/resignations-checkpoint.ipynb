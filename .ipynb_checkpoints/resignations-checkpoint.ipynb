{
 "cells": [
  {
   "cell_type": "code",
   "execution_count": 166,
   "metadata": {},
   "outputs": [],
   "source": [
    "import pandas as pd\n",
    "import matplotlib.pyplot as plt\n",
    "import datetime\n",
    "import numpy as np"
   ]
  },
  {
   "cell_type": "markdown",
   "metadata": {},
   "source": [
    "# Ministerial resignations outside reshuffles since Thatcher\n",
    "\n",
    "`Source: Institute for Govenment`\n",
    "\n",
    "https://docs.google.com/spreadsheets/d/1gVHNx4kzXd947AFfQGiJg5zJrdNXrM81t2OC8UJFnw8/edit#gid=0\n",
    "\n",
    "`Sheet with date calculations, and data in long format`\n",
    "\n",
    "https://docs.google.com/spreadsheets/d/1RGF0gShuCZgluqzS9vhGIABrQ-xdQPTEiMIXYKsq84o/edit?ts=5c9c9e2f#gid=182213756\n",
    "\n",
    "Add footnote: Source: The Institute for Government. Note: Excludes reshuffles. Years in office: Thatcher 1979-90, Major 1990-97, Blair 1997-07, Brown 2007-10, Cameron 2010-16, May 2016-2019, Johnson 2019-present"
   ]
  },
  {
   "cell_type": "markdown",
   "metadata": {},
   "source": [
    "## Import data"
   ]
  },
  {
   "cell_type": "code",
   "execution_count": 178,
   "metadata": {},
   "outputs": [
    {
     "data": {
      "text/html": [
       "<div>\n",
       "<style scoped>\n",
       "    .dataframe tbody tr th:only-of-type {\n",
       "        vertical-align: middle;\n",
       "    }\n",
       "\n",
       "    .dataframe tbody tr th {\n",
       "        vertical-align: top;\n",
       "    }\n",
       "\n",
       "    .dataframe thead th {\n",
       "        text-align: right;\n",
       "    }\n",
       "</style>\n",
       "<table border=\"1\" class=\"dataframe\">\n",
       "  <thead>\n",
       "    <tr style=\"text-align: right;\">\n",
       "      <th></th>\n",
       "      <th>DaysFromAssumption</th>\n",
       "      <th>Cumulative</th>\n",
       "    </tr>\n",
       "    <tr>\n",
       "      <th>PM</th>\n",
       "      <th></th>\n",
       "      <th></th>\n",
       "    </tr>\n",
       "  </thead>\n",
       "  <tbody>\n",
       "    <tr>\n",
       "      <td>Thatcher</td>\n",
       "      <td>0</td>\n",
       "      <td>0</td>\n",
       "    </tr>\n",
       "    <tr>\n",
       "      <td>Thatcher</td>\n",
       "      <td>992</td>\n",
       "      <td>1</td>\n",
       "    </tr>\n",
       "    <tr>\n",
       "      <td>Thatcher</td>\n",
       "      <td>1094</td>\n",
       "      <td>2</td>\n",
       "    </tr>\n",
       "    <tr>\n",
       "      <td>Thatcher</td>\n",
       "      <td>1095</td>\n",
       "      <td>3</td>\n",
       "    </tr>\n",
       "    <tr>\n",
       "      <td>Thatcher</td>\n",
       "      <td>1095</td>\n",
       "      <td>4</td>\n",
       "    </tr>\n",
       "  </tbody>\n",
       "</table>\n",
       "</div>"
      ],
      "text/plain": [
       "          DaysFromAssumption  Cumulative\n",
       "PM                                      \n",
       "Thatcher                   0           0\n",
       "Thatcher                 992           1\n",
       "Thatcher                1094           2\n",
       "Thatcher                1095           3\n",
       "Thatcher                1095           4"
      ]
     },
     "execution_count": 178,
     "metadata": {},
     "output_type": "execute_result"
    }
   ],
   "source": [
    "ministers = pd.read_csv('data/resignations.csv', index_col='PM')\n",
    "ministers.head()"
   ]
  },
  {
   "cell_type": "markdown",
   "metadata": {},
   "source": [
    "## Slice data"
   ]
  },
  {
   "cell_type": "code",
   "execution_count": 190,
   "metadata": {},
   "outputs": [],
   "source": [
    "thatcher = ministers.loc['Thatcher':'Thatcher']\n",
    "blair = ministers.loc['Blair':'Blair']\n",
    "cameron = ministers.loc['Cameron':'Cameron']\n",
    "brown = ministers.loc['Brown':'Brown']\n",
    "may = ministers.loc['May':'May']\n",
    "johnson = ministers.loc['Johnson':'Johnson']\n",
    "major = ministers.loc['Major':'Major']"
   ]
  },
  {
   "cell_type": "markdown",
   "metadata": {},
   "source": [
    "## Plot resignations"
   ]
  },
  {
   "cell_type": "code",
   "execution_count": 196,
   "metadata": {},
   "outputs": [
    {
     "data": {
      "image/png": "[encoded data removed]",
      "text/plain": [
       "<Figure size 720x432 with 1 Axes>"
      ]
     },
     "metadata": {
      "needs_background": "light"
     },
     "output_type": "display_data"
    }
   ],
   "source": [
    "fig, ax = plt.subplots(figsize=(10,6))\n",
    "\n",
    "ax.plot(thatcher['DaysFromAssumption'], thatcher['Cumulative'], drawstyle='steps-post', label='Thatcher')\n",
    "ax.plot(major['DaysFromAssumption'], major['Cumulative'], drawstyle='steps-post', label='Major')\n",
    "ax.plot(blair['DaysFromAssumption'], blair['Cumulative'], drawstyle='steps-post', label='Blair')\n",
    "ax.plot(brown['DaysFromAssumption'], brown['Cumulative'], drawstyle='steps-post', label='Brown')\n",
    "ax.plot(may['DaysFromAssumption'], may['Cumulative'], drawstyle='steps-post', label='May')\n",
    "ax.plot(cameron['DaysFromAssumption'], cameron['Cumulative'], drawstyle='steps-post', label='Cameron')\n",
    "ax.plot(johnson['DaysFromAssumption'], johnson['Cumulative'], drawstyle='steps-post', label='Johnson')\n",
    "\n",
    "plt.title('Ministerial resignation outside a reshuffle')\n",
    "plt.ylabel('Resignations')\n",
    "plt.xlabel('Years since taking office')\n",
    "\n",
    "plt.xticks([0, 365, 730, 1095, 1460, 1825, 2190, 2555, 2920, 3284, 3650, 4015], \n",
    "           [ '0', '1', '2', '3', '4', '5', '6', '7', '8', '9', '10', '11'])\n",
    "\n",
    "plt.legend()\n",
    "plt.savefig('output/resignations_output.pdf')"
   ]
  },
  {
   "cell_type": "code",
   "execution_count": null,
   "metadata": {},
   "outputs": [],
   "source": []
  },
  {
   "cell_type": "code",
   "execution_count": null,
   "metadata": {},
   "outputs": [],
   "source": []
  },
  {
   "cell_type": "code",
   "execution_count": null,
   "metadata": {},
   "outputs": [],
   "source": []
  },
  {
   "cell_type": "code",
   "execution_count": null,
   "metadata": {},
   "outputs": [],
   "source": []
  },
  {
   "cell_type": "code",
   "execution_count": null,
   "metadata": {},
   "outputs": [],
   "source": []
  },
  {
   "cell_type": "code",
   "execution_count": null,
   "metadata": {},
   "outputs": [],
   "source": []
  },
  {
   "cell_type": "code",
   "execution_count": null,
   "metadata": {},
   "outputs": [],
   "source": []
  },
  {
   "cell_type": "code",
   "execution_count": null,
   "metadata": {},
   "outputs": [],
   "source": []
  },
  {
   "cell_type": "code",
   "execution_count": null,
   "metadata": {},
   "outputs": [],
   "source": []
  },
  {
   "cell_type": "code",
   "execution_count": null,
   "metadata": {},
   "outputs": [],
   "source": []
  },
  {
   "cell_type": "code",
   "execution_count": null,
   "metadata": {},
   "outputs": [],
   "source": []
  },
  {
   "cell_type": "code",
   "execution_count": null,
   "metadata": {},
   "outputs": [],
   "source": []
  },
  {
   "cell_type": "code",
   "execution_count": null,
   "metadata": {},
   "outputs": [],
   "source": []
  },
  {
   "cell_type": "code",
   "execution_count": null,
   "metadata": {},
   "outputs": [],
   "source": []
  }
 ],
 "metadata": {
  "kernelspec": {
   "display_name": "Python 3",
   "language": "python",
   "name": "python3"
  },
  "language_info": {
   "codemirror_mode": {
    "name": "ipython",
    "version": 3
   },
   "file_extension": ".py",
   "mimetype": "text/x-python",
   "name": "python",
   "nbconvert_exporter": "python",
   "pygments_lexer": "ipython3",
   "version": "3.7.4"
  }
 },
 "nbformat": 4,
 "nbformat_minor": 2
}
